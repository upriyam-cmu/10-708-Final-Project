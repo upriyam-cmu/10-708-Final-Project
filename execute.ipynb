{
 "cells": [
  {
   "cell_type": "markdown",
   "metadata": {
    "colab_type": "text",
    "id": "view-in-github"
   },
   "source": [
    "<a href=\"https://colab.research.google.com/github/upriyam-cmu/EDGE-Rec/blob/main/execute.ipynb\" target=\"_parent\"><img src=\"https://colab.research.google.com/assets/colab-badge.svg\" alt=\"Open In Colab\"/></a>"
   ]
  },
  {
   "cell_type": "markdown",
   "metadata": {
    "collapsed": false,
    "id": "9Q6JZwINFIas"
   },
   "source": [
    "# Install project code"
   ]
  },
  {
   "cell_type": "code",
   "execution_count": null,
   "metadata": {
    "collapsed": true,
    "id": "T8zKX7jqFIax"
   },
   "outputs": [],
   "source": [
    "!pip uninstall -y edge-rec\n",
    "!pip install -e."
   ]
  },
  {
   "cell_type": "markdown",
   "metadata": {
    "collapsed": false,
    "id": "YyB0la9eFIa2"
   },
   "source": [
    "# Train model"
   ]
  },
  {
   "cell_type": "code",
   "execution_count": null,
   "metadata": {
    "id": "qHy9cdt2FIa3"
   },
   "outputs": [],
   "source": [
    "from edge_rec.datasets import MovieLensDataHolder, RatingsTransform, FeatureTransform\n",
    "\n",
    "from edge_rec.model import GraphReconstructionModel, GraphTransformer\n",
    "from edge_rec.model.embed import MovieLensFeatureEmbedder, SinusoidalPositionalEmbedding\n",
    "\n",
    "from edge_rec.diffusion import GaussianDiffusion\n",
    "from edge_rec.exec import Trainer, compute_metrics"
   ]
  },
  {
   "cell_type": "code",
   "execution_count": null,
   "outputs": [],
   "source": [
    "data_holder = MovieLensDataHolder(augmentations=dict(\n",
    "    ratings=RatingsTransform.ToGaussian(),\n",
    "    rating_counts=FeatureTransform.LogPolynomial(2),  # degree 2 --> dim_size = 2 (for embedder, below)\n",
    "))"
   ],
   "metadata": {
    "collapsed": false
   }
  },
  {
   "cell_type": "code",
   "execution_count": null,
   "outputs": [],
   "source": [
    "embed = MovieLensFeatureEmbedder(\n",
    "    user_rating_counts_dims=2,\n",
    "    movie_rating_counts_dims=2,\n",
    ")\n",
    "core = GraphTransformer(\n",
    "    n_blocks=1,\n",
    "    n_channels=1,\n",
    "    n_features=embed.output_sizes,\n",
    "    time_embedder=SinusoidalPositionalEmbedding(16),\n",
    "    # attn_kwargs=dict(heads=1, dim_head=8, num_mem_kv=0)\n",
    ")\n",
    "model = GraphReconstructionModel(embed, core, feature_dim_size=None)"
   ],
   "metadata": {
    "collapsed": false
   }
  },
  {
   "cell_type": "code",
   "execution_count": null,
   "outputs": [],
   "source": [
    "diffusion_model = GaussianDiffusion(model, image_size=(data_holder.n_users, data_holder.n_movies))\n",
    "trainer = Trainer(\n",
    "    # model\n",
    "    diffusion_model=diffusion_model,\n",
    "    # datasets\n",
    "    train_dataset=data_holder.get_dataset(subgraph_size=None, target_density=None, train=True),\n",
    "    test_dataset=data_holder.get_dataset(subgraph_size=None, target_density=None, train=False),\n",
    "    # training\n",
    "    batch_size=1,\n",
    "    gradient_accumulate_every=1,\n",
    "    force_batch_size=True,\n",
    "    train_num_steps=int(1e4),\n",
    "    train_mask_unknown_ratings=True,\n",
    "    # optim\n",
    "    train_lr=1e-4,\n",
    "    adam_betas=(0.9, 0.99),\n",
    "    max_grad_norm=1.,\n",
    "    # logging\n",
    "    results_folder=\"./results\",\n",
    "    ema_update_every=10,\n",
    "    ema_decay=0.995,\n",
    "    save_and_sample_every=200,\n",
    "    # accelerator\n",
    "    amp=False,\n",
    "    mixed_precision_type='fp16',\n",
    "    split_batches=True,\n",
    ")\n",
    "print(\"Using device:\", trainer.device)"
   ],
   "metadata": {
    "collapsed": false
   }
  },
  {
   "cell_type": "code",
   "execution_count": null,
   "metadata": {
    "id": "9fJB149xFIa5"
   },
   "outputs": [],
   "source": [
    "trainer.train()"
   ]
  },
  {
   "cell_type": "markdown",
   "metadata": {
    "collapsed": false,
    "id": "d5_rCKjIFIa6"
   },
   "source": [
    "# Sample ratings"
   ]
  },
  {
   "cell_type": "code",
   "execution_count": null,
   "outputs": [],
   "source": [
    "def eval_model(use_inpainting: bool, milestone: int):\n",
    "    user_indices, product_indices = data_holder.get_subgraph_indices(None, None)  # full graph\n",
    "    rating_data_train = data_holder.slice_subgraph(\n",
    "        user_indices=user_indices,\n",
    "        product_indices=product_indices,\n",
    "        return_train_edges=True,\n",
    "        return_test_edges=False,\n",
    "    )\n",
    "    rating_data_test = data_holder.slice_subgraph(\n",
    "        user_indices=user_indices,\n",
    "        product_indices=product_indices,\n",
    "        return_train_edges=False,\n",
    "        return_test_edges=True,\n",
    "    )\n",
    "    denoised_graph = trainer.eval(\n",
    "        rating_data=rating_data_train.clone(),\n",
    "        milestone=milestone,\n",
    "        do_inpainting_sampling=use_inpainting,\n",
    "        tiled_sampling=True,\n",
    "        batch_size=16,\n",
    "        subgraph_size=128,\n",
    "        silence_inner_tqdm=True,\n",
    "    )\n",
    "    return denoised_graph, rating_data_train, rating_data_test"
   ],
   "metadata": {
    "collapsed": false
   }
  },
  {
   "cell_type": "code",
   "execution_count": null,
   "outputs": [],
   "source": [
    "denoised_graph, rating_data_train, rating_data_test = eval_model(use_inpainting=False, milestone=4000)"
   ],
   "metadata": {
    "collapsed": false
   }
  },
  {
   "cell_type": "markdown",
   "metadata": {
    "collapsed": false,
    "id": "uoaM5uiZFIa7"
   },
   "source": [
    "# Evaluate metrics"
   ]
  },
  {
   "cell_type": "code",
   "execution_count": null,
   "outputs": [],
   "source": [
    "import numpy as np\n",
    "import matplotlib as mpl\n",
    "import matplotlib.pyplot as plt\n",
    "from matplotlib.ticker import (MultipleLocator, AutoMinorLocator)\n",
    "\n",
    "mpl.rcParams.update({'figure.dpi': 300, 'font.size': 4})\n",
    "plt.style.use('bmh')\n",
    "\n",
    "hrv_name = {\n",
    "    'precision': 'Precision',\n",
    "    'recall': 'Recall',\n",
    "    'mean_reciprocal_rank': 'MRR',\n",
    "    'hit_rate': 'HR',\n",
    "    'ndcg': 'NDCG'\n",
    "}\n",
    "\n",
    "\n",
    "def plot_metrics(metrics: dict, plot_name: str):\n",
    "    def _plot(ax, curve_name):\n",
    "        ax.set_title(hrv_name[curve_name])\n",
    "        ks = (1, 5, 10, 20, 30, 40, 50)\n",
    "        ax.xaxis.grid(True, which='major')\n",
    "        ax.xaxis.set_major_locator(MultipleLocator(10))\n",
    "        ax.xaxis.set_major_formatter('{x:.0f}')\n",
    "        ax.plot(ks, metrics[curve_name], '.-', linewidth=1.0, markersize=4.0)\n",
    "        ax.set_xlabel(\"Top-K\")\n",
    "        ax.set_aspect(50 / (np.max(metrics[curve_name]) - np.min(metrics[curve_name])))\n",
    "\n",
    "    fig, axs = plt.subplots(1, 5)\n",
    "    for ax, name in zip(axs, ['precision', 'recall', 'ndcg', 'mean_reciprocal_rank', 'hit_rate']):\n",
    "        _plot(ax, name)\n",
    "        if name == 'precision':\n",
    "            ax.set_ylabel(plot_name)\n",
    "    plt.tight_layout(h_pad=-25.0)\n",
    "    plt.show()"
   ],
   "metadata": {
    "collapsed": false
   }
  },
  {
   "cell_type": "code",
   "execution_count": null,
   "outputs": [],
   "source": [
    "metrics = compute_metrics(\n",
    "    predicted_ratings_graph=denoised_graph,\n",
    "    train_rating_data=rating_data_train,\n",
    "    test_rating_data=rating_data_test,\n",
    "    rating_transform=data_holder.ratings_transform,\n",
    ")"
   ],
   "metadata": {
    "collapsed": false
   }
  },
  {
   "cell_type": "code",
   "execution_count": null,
   "outputs": [],
   "source": [
    "plot_metrics(metrics=metrics, plot_name=\"ML-100k, 128x128 Patch Sampling\")"
   ],
   "metadata": {
    "collapsed": false
   }
  },
  {
   "cell_type": "markdown",
   "metadata": {
    "collapsed": false,
    "id": "RpzXY9IfFIa-"
   },
   "source": [
    "# Display sampled ratings distribution"
   ]
  },
  {
   "cell_type": "code",
   "execution_count": null,
   "metadata": {
    "id": "37uiTgF2FIa_"
   },
   "outputs": [],
   "source": [
    "plt.figure(figsize=(3, 2))\n",
    "plt.hist(denoised_graph.numpy().flatten(), bins=20)\n",
    "plt.show()"
   ]
  }
 ],
 "metadata": {
  "colab": {
   "include_colab_link": true,
   "provenance": []
  },
  "kernelspec": {
   "display_name": "Python 3",
   "language": "python",
   "name": "python3"
  },
  "language_info": {
   "codemirror_mode": {
    "name": "ipython",
    "version": 3
   },
   "file_extension": ".py",
   "mimetype": "text/x-python",
   "name": "python",
   "nbconvert_exporter": "python",
   "pygments_lexer": "ipython3",
   "version": "3.11.9"
  }
 },
 "nbformat": 4,
 "nbformat_minor": 0
}
