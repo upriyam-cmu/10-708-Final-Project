{
 "cells": [
  {
   "cell_type": "markdown",
   "metadata": {
    "colab_type": "text",
    "id": "view-in-github"
   },
   "source": [
    "<a href=\"https://colab.research.google.com/github/upriyam-cmu/EDGE-Rec/blob/main/execute.ipynb\" target=\"_parent\"><img src=\"https://colab.research.google.com/assets/colab-badge.svg\" alt=\"Open In Colab\"/></a>"
   ]
  },
  {
   "cell_type": "markdown",
   "metadata": {
    "collapsed": false,
    "id": "9Q6JZwINFIas"
   },
   "source": [
    "# Install project code"
   ]
  },
  {
   "cell_type": "code",
   "execution_count": null,
   "metadata": {
    "collapsed": true,
    "id": "T8zKX7jqFIax"
   },
   "outputs": [],
   "source": [
    "!pip uninstall -y edge-rec\n",
    "!pip install -e."
   ]
  },
  {
   "cell_type": "markdown",
   "metadata": {
    "collapsed": false,
    "id": "YyB0la9eFIa2"
   },
   "source": [
    "# Train model"
   ]
  },
  {
   "cell_type": "code",
   "execution_count": null,
   "metadata": {
    "id": "qHy9cdt2FIa3"
   },
   "outputs": [],
   "source": [
    "from edge_rec.datasets import MovieLensDataHolder, RatingsTransform, FeatureTransform\n",
    "\n",
    "from edge_rec.model import GraphReconstructionModel, GraphTransformer\n",
    "from edge_rec.model.embed import MovieLensFeatureEmbedder, SinusoidalPositionalEmbedding\n",
    "\n",
    "from edge_rec.diffusion import GaussianDiffusion\n",
    "from edge_rec.exec import Trainer, compute_metrics"
   ]
  },
  {
   "cell_type": "code",
   "execution_count": null,
   "outputs": [],
   "source": [
    "data_holder = MovieLensDataHolder(augmentations=dict(\n",
    "    ratings=RatingsTransform.ToGaussian(),\n",
    "    rating_counts=FeatureTransform.LogPolynomial(2),  # degree 2 --> dim_size = 2 (for embedder, below)\n",
    "))"
   ],
   "metadata": {
    "collapsed": false
   }
  },
  {
   "cell_type": "code",
   "execution_count": null,
   "outputs": [],
   "source": [
    "embed = MovieLensFeatureEmbedder(\n",
    "    user_rating_counts_dims=2,\n",
    "    movie_rating_counts_dims=2,\n",
    ")\n",
    "core = GraphTransformer(\n",
    "    n_blocks=1,\n",
    "    n_channels=1,\n",
    "    n_features=embed.output_sizes,\n",
    "    time_embedder=SinusoidalPositionalEmbedding(16),\n",
    "    # attn_kwargs=dict(heads=1, dim_head=8, num_mem_kv=0)\n",
    ")\n",
    "model = GraphReconstructionModel(embed, core, feature_dim_size=None)"
   ],
   "metadata": {
    "collapsed": false
   }
  },
  {
   "cell_type": "code",
   "execution_count": null,
   "outputs": [],
   "source": [
    "diffusion_model = GaussianDiffusion(model, image_size=(data_holder.n_users, data_holder.n_movies))\n",
    "trainer = Trainer(\n",
    "    # model\n",
    "    diffusion_model=diffusion_model,\n",
    "    # datasets\n",
    "    train_dataset=data_holder.get_dataset(subgraph_size=None, target_density=None, train=True),\n",
    "    test_dataset=data_holder.get_dataset(subgraph_size=None, target_density=None, train=False),\n",
    "    # training\n",
    "    batch_size=1,\n",
    "    gradient_accumulate_every=1,\n",
    "    force_batch_size=True,\n",
    "    train_num_steps=int(1e4),\n",
    "    train_mask_unknown_ratings=True,\n",
    "    # optim\n",
    "    train_lr=1e-4,\n",
    "    adam_betas=(0.9, 0.99),\n",
    "    max_grad_norm=1.,\n",
    "    # logging\n",
    "    results_folder=\"./results\",\n",
    "    ema_update_every=10,\n",
    "    ema_decay=0.995,\n",
    "    save_and_sample_every=200,\n",
    "    # accelerator\n",
    "    amp=False,\n",
    "    mixed_precision_type='fp16',\n",
    "    split_batches=True,\n",
    ")\n",
    "print(\"Using device:\", trainer.device)"
   ],
   "metadata": {
    "collapsed": false
   }
  },
  {
   "cell_type": "code",
   "execution_count": null,
   "metadata": {
    "id": "9fJB149xFIa5"
   },
   "outputs": [],
   "source": [
    "trainer.train()"
   ]
  },
  {
   "cell_type": "markdown",
   "metadata": {
    "collapsed": false,
    "id": "d5_rCKjIFIa6"
   },
   "source": [
    "# Sample ratings"
   ]
  },
  {
   "cell_type": "code",
   "execution_count": null,
   "metadata": {
    "id": "YIsW331MFIa6"
   },
   "outputs": [],
   "source": [
    "# d70_subgraph, train_ratings, test_ratings = trainer.ds.dataset.get_subgraph(\n",
    "#     subgraph_size=50,\n",
    "#     target_density=0.7,\n",
    "#     include_separate_train_test_ratings=True\n",
    "# )\n",
    "full_graph, train_ratings, test_ratings = trainer.ds.build_feat_graph(include_separate_train_test_ratings=True)\n",
    "sampled_ratings = trainer.eval(full_graph=full_graph[:-1], milestone=2200, subgraph_size=50)[0, 0, :, :].cpu().detach()\n",
    "sampled_ratings = sampled_ratings * 2.5 + 3"
   ]
  },
  {
   "cell_type": "markdown",
   "metadata": {
    "collapsed": false,
    "id": "uoaM5uiZFIa7"
   },
   "source": [
    "# Evaluate metrics"
   ]
  },
  {
   "cell_type": "code",
   "execution_count": null,
   "metadata": {
    "id": "QnuK0xdDFIa8"
   },
   "outputs": [],
   "source": [
    "from edge_rec.evaluate import get_metrics\n",
    "import torch\n",
    "\n",
    "train_edges = train_ratings.long().to_sparse_coo()\n",
    "train_edges = torch.cat([\n",
    "    train_edges.indices(),\n",
    "    train_edges.values().unsqueeze(dim=0)\n",
    "], dim=0)\n",
    "test_edges = test_ratings.long().to_sparse_coo()\n",
    "test_edges = torch.cat([\n",
    "    test_edges.indices(),\n",
    "    test_edges.values().unsqueeze(dim=0)\n",
    "], dim=0)\n",
    "\n",
    "test_metrics = get_metrics(train_edges, test_edges, sampled_ratings)\n",
    "test_metrics"
   ]
  },
  {
   "cell_type": "markdown",
   "metadata": {
    "collapsed": false,
    "id": "RpzXY9IfFIa-"
   },
   "source": [
    "# Display sampled ratings distribution"
   ]
  },
  {
   "cell_type": "code",
   "execution_count": null,
   "metadata": {
    "id": "37uiTgF2FIa_"
   },
   "outputs": [],
   "source": [
    "import matplotlib.pyplot as plt\n",
    "\n",
    "plt.hist(sampled_ratings.numpy().flatten(), bins=5)\n",
    "plt.show()"
   ]
  }
 ],
 "metadata": {
  "colab": {
   "include_colab_link": true,
   "provenance": []
  },
  "kernelspec": {
   "display_name": "Python 3",
   "language": "python",
   "name": "python3"
  },
  "language_info": {
   "codemirror_mode": {
    "name": "ipython",
    "version": 3
   },
   "file_extension": ".py",
   "mimetype": "text/x-python",
   "name": "python",
   "nbconvert_exporter": "python",
   "pygments_lexer": "ipython3",
   "version": "3.11.9"
  }
 },
 "nbformat": 4,
 "nbformat_minor": 0
}
